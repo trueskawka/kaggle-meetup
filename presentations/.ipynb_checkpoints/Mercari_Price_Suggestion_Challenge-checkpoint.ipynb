{
 "cells": [
  {
   "cell_type": "markdown",
   "metadata": {},
   "source": [
    "## Notes for Mercari Price Suggestion Challenge\n",
    "\n",
    "Examples and helpers for the presentation:\n",
    "\n",
    "https://docs.google.com/presentation/d/1AtvVds00Sfd8UJmO_ySKcN67tAwreDj3UA9MGJxZ1SA/edit?usp=sharing\n"
   ]
  },
  {
   "cell_type": "code",
   "execution_count": 33,
   "metadata": {},
   "outputs": [],
   "source": [
    "%matplotlib inline\n",
    "import pylab as plt\n",
    "import numpy as np\n",
    "import pandas as pd\n",
    "pd.options.display.float_format = '{:.1f}'.format"
   ]
  },
  {
   "cell_type": "markdown",
   "metadata": {},
   "source": [
    "### Data\n",
    "\n",
    "`train_id` or `test_id` - integer, enumerated (no apparent data leakage)\n",
    "\n",
    "`name` \t\t\t        - string\n",
    "\n",
    "`item_condition_id`\t    - integer levels (1-5, where 1 is new and 5 is poor)\n",
    "\n",
    "`category_name`\t        - string (with levels, e.g. Women/Tops & Blouses/Blouse)\n",
    "\n",
    "`brand_name`\t\t    - string, if no brand name left empty\n",
    "\n",
    "`price`\t\t\t\t    - integer\n",
    "\n",
    "`shipping` \t\t\t    - binary, 1 if the seller pays for it (free shipping), 0 otherwise\n",
    "\n",
    "`item_description`      - string, where lack of description is marked as \"No description yet\""
   ]
  },
  {
   "cell_type": "code",
   "execution_count": 34,
   "metadata": {
    "scrolled": true
   },
   "outputs": [
    {
     "data": {
      "text/html": [
       "<div>\n",
       "<style scoped>\n",
       "    .dataframe tbody tr th:only-of-type {\n",
       "        vertical-align: middle;\n",
       "    }\n",
       "\n",
       "    .dataframe tbody tr th {\n",
       "        vertical-align: top;\n",
       "    }\n",
       "\n",
       "    .dataframe thead th {\n",
       "        text-align: right;\n",
       "    }\n",
       "</style>\n",
       "<table border=\"1\" class=\"dataframe\">\n",
       "  <thead>\n",
       "    <tr style=\"text-align: right;\">\n",
       "      <th></th>\n",
       "      <th>train_id</th>\n",
       "      <th>name</th>\n",
       "      <th>item_condition_id</th>\n",
       "      <th>category_name</th>\n",
       "      <th>brand_name</th>\n",
       "      <th>price</th>\n",
       "      <th>shipping</th>\n",
       "      <th>item_description</th>\n",
       "    </tr>\n",
       "  </thead>\n",
       "  <tbody>\n",
       "    <tr>\n",
       "      <th>0</th>\n",
       "      <td>0</td>\n",
       "      <td>MLB Cincinnati Reds T Shirt Size XL</td>\n",
       "      <td>3</td>\n",
       "      <td>Men/Tops/T-shirts</td>\n",
       "      <td>NaN</td>\n",
       "      <td>10.0</td>\n",
       "      <td>1</td>\n",
       "      <td>No description yet</td>\n",
       "    </tr>\n",
       "    <tr>\n",
       "      <th>1</th>\n",
       "      <td>1</td>\n",
       "      <td>Razer BlackWidow Chroma Keyboard</td>\n",
       "      <td>3</td>\n",
       "      <td>Electronics/Computers &amp; Tablets/Components &amp; P...</td>\n",
       "      <td>Razer</td>\n",
       "      <td>52.0</td>\n",
       "      <td>0</td>\n",
       "      <td>This keyboard is in great condition and works ...</td>\n",
       "    </tr>\n",
       "    <tr>\n",
       "      <th>2</th>\n",
       "      <td>2</td>\n",
       "      <td>AVA-VIV Blouse</td>\n",
       "      <td>1</td>\n",
       "      <td>Women/Tops &amp; Blouses/Blouse</td>\n",
       "      <td>Target</td>\n",
       "      <td>10.0</td>\n",
       "      <td>1</td>\n",
       "      <td>Adorable top with a hint of lace and a key hol...</td>\n",
       "    </tr>\n",
       "    <tr>\n",
       "      <th>3</th>\n",
       "      <td>3</td>\n",
       "      <td>Leather Horse Statues</td>\n",
       "      <td>1</td>\n",
       "      <td>Home/Home Décor/Home Décor Accents</td>\n",
       "      <td>NaN</td>\n",
       "      <td>35.0</td>\n",
       "      <td>1</td>\n",
       "      <td>New with tags. Leather horses. Retail for [rm]...</td>\n",
       "    </tr>\n",
       "    <tr>\n",
       "      <th>4</th>\n",
       "      <td>4</td>\n",
       "      <td>24K GOLD plated rose</td>\n",
       "      <td>1</td>\n",
       "      <td>Women/Jewelry/Necklaces</td>\n",
       "      <td>NaN</td>\n",
       "      <td>44.0</td>\n",
       "      <td>0</td>\n",
       "      <td>Complete with certificate of authenticity</td>\n",
       "    </tr>\n",
       "    <tr>\n",
       "      <th>5</th>\n",
       "      <td>5</td>\n",
       "      <td>Bundled items requested for Ruie</td>\n",
       "      <td>3</td>\n",
       "      <td>Women/Other/Other</td>\n",
       "      <td>NaN</td>\n",
       "      <td>59.0</td>\n",
       "      <td>0</td>\n",
       "      <td>Banana republic bottoms, Candies skirt with ma...</td>\n",
       "    </tr>\n",
       "    <tr>\n",
       "      <th>6</th>\n",
       "      <td>6</td>\n",
       "      <td>Acacia pacific tides santorini top</td>\n",
       "      <td>3</td>\n",
       "      <td>Women/Swimwear/Two-Piece</td>\n",
       "      <td>Acacia Swimwear</td>\n",
       "      <td>64.0</td>\n",
       "      <td>0</td>\n",
       "      <td>Size small but straps slightly shortened to fi...</td>\n",
       "    </tr>\n",
       "    <tr>\n",
       "      <th>7</th>\n",
       "      <td>7</td>\n",
       "      <td>Girls cheer and tumbling bundle of 7</td>\n",
       "      <td>3</td>\n",
       "      <td>Sports &amp; Outdoors/Apparel/Girls</td>\n",
       "      <td>Soffe</td>\n",
       "      <td>6.0</td>\n",
       "      <td>1</td>\n",
       "      <td>You get three pairs of Sophie cheer shorts siz...</td>\n",
       "    </tr>\n",
       "    <tr>\n",
       "      <th>8</th>\n",
       "      <td>8</td>\n",
       "      <td>Girls Nike Pro shorts</td>\n",
       "      <td>3</td>\n",
       "      <td>Sports &amp; Outdoors/Apparel/Girls</td>\n",
       "      <td>Nike</td>\n",
       "      <td>19.0</td>\n",
       "      <td>0</td>\n",
       "      <td>Girls Size small Plus green. Three shorts total.</td>\n",
       "    </tr>\n",
       "    <tr>\n",
       "      <th>9</th>\n",
       "      <td>9</td>\n",
       "      <td>Porcelain clown doll checker pants VTG</td>\n",
       "      <td>3</td>\n",
       "      <td>Vintage &amp; Collectibles/Collectibles/Doll</td>\n",
       "      <td>NaN</td>\n",
       "      <td>8.0</td>\n",
       "      <td>0</td>\n",
       "      <td>I realized his pants are on backwards after th...</td>\n",
       "    </tr>\n",
       "  </tbody>\n",
       "</table>\n",
       "</div>"
      ],
      "text/plain": [
       "   train_id                                    name  item_condition_id  \\\n",
       "0         0     MLB Cincinnati Reds T Shirt Size XL                  3   \n",
       "1         1        Razer BlackWidow Chroma Keyboard                  3   \n",
       "2         2                          AVA-VIV Blouse                  1   \n",
       "3         3                   Leather Horse Statues                  1   \n",
       "4         4                    24K GOLD plated rose                  1   \n",
       "5         5        Bundled items requested for Ruie                  3   \n",
       "6         6      Acacia pacific tides santorini top                  3   \n",
       "7         7    Girls cheer and tumbling bundle of 7                  3   \n",
       "8         8                   Girls Nike Pro shorts                  3   \n",
       "9         9  Porcelain clown doll checker pants VTG                  3   \n",
       "\n",
       "                                       category_name       brand_name  price  \\\n",
       "0                                  Men/Tops/T-shirts              NaN   10.0   \n",
       "1  Electronics/Computers & Tablets/Components & P...            Razer   52.0   \n",
       "2                        Women/Tops & Blouses/Blouse           Target   10.0   \n",
       "3                 Home/Home Décor/Home Décor Accents              NaN   35.0   \n",
       "4                            Women/Jewelry/Necklaces              NaN   44.0   \n",
       "5                                  Women/Other/Other              NaN   59.0   \n",
       "6                           Women/Swimwear/Two-Piece  Acacia Swimwear   64.0   \n",
       "7                    Sports & Outdoors/Apparel/Girls            Soffe    6.0   \n",
       "8                    Sports & Outdoors/Apparel/Girls             Nike   19.0   \n",
       "9           Vintage & Collectibles/Collectibles/Doll              NaN    8.0   \n",
       "\n",
       "   shipping                                   item_description  \n",
       "0         1                                 No description yet  \n",
       "1         0  This keyboard is in great condition and works ...  \n",
       "2         1  Adorable top with a hint of lace and a key hol...  \n",
       "3         1  New with tags. Leather horses. Retail for [rm]...  \n",
       "4         0          Complete with certificate of authenticity  \n",
       "5         0  Banana republic bottoms, Candies skirt with ma...  \n",
       "6         0  Size small but straps slightly shortened to fi...  \n",
       "7         1  You get three pairs of Sophie cheer shorts siz...  \n",
       "8         0   Girls Size small Plus green. Three shorts total.  \n",
       "9         0  I realized his pants are on backwards after th...  "
      ]
     },
     "execution_count": 34,
     "metadata": {},
     "output_type": "execute_result"
    }
   ],
   "source": [
    "mercari = pd.read_table('~/Downloads/train.tsv')\n",
    "mercari.head(10)"
   ]
  },
  {
   "cell_type": "code",
   "execution_count": 48,
   "metadata": {},
   "outputs": [
    {
     "data": {
      "text/plain": [
       "category_name         6327\n",
       "brand_name          632682\n",
       "item_description         4\n",
       "dtype: int64"
      ]
     },
     "execution_count": 48,
     "metadata": {},
     "output_type": "execute_result"
    }
   ],
   "source": [
    "mercari.isnull().sum()[mercari.isnull().sum()>0]"
   ]
  },
  {
   "cell_type": "code",
   "execution_count": 47,
   "metadata": {},
   "outputs": [
    {
     "data": {
      "text/html": [
       "<div>\n",
       "<style scoped>\n",
       "    .dataframe tbody tr th:only-of-type {\n",
       "        vertical-align: middle;\n",
       "    }\n",
       "\n",
       "    .dataframe tbody tr th {\n",
       "        vertical-align: top;\n",
       "    }\n",
       "\n",
       "    .dataframe thead th {\n",
       "        text-align: right;\n",
       "    }\n",
       "</style>\n",
       "<table border=\"1\" class=\"dataframe\">\n",
       "  <thead>\n",
       "    <tr style=\"text-align: right;\">\n",
       "      <th></th>\n",
       "      <th>train_id</th>\n",
       "      <th>item_condition_id</th>\n",
       "      <th>price</th>\n",
       "      <th>shipping</th>\n",
       "    </tr>\n",
       "  </thead>\n",
       "  <tbody>\n",
       "    <tr>\n",
       "      <th>count</th>\n",
       "      <td>1482535.0</td>\n",
       "      <td>1482535.0</td>\n",
       "      <td>1482535.0</td>\n",
       "      <td>1482535.0</td>\n",
       "    </tr>\n",
       "    <tr>\n",
       "      <th>mean</th>\n",
       "      <td>741267.0</td>\n",
       "      <td>1.9</td>\n",
       "      <td>26.7</td>\n",
       "      <td>0.5</td>\n",
       "    </tr>\n",
       "    <tr>\n",
       "      <th>std</th>\n",
       "      <td>427971.1</td>\n",
       "      <td>0.9</td>\n",
       "      <td>38.6</td>\n",
       "      <td>0.5</td>\n",
       "    </tr>\n",
       "    <tr>\n",
       "      <th>min</th>\n",
       "      <td>0.0</td>\n",
       "      <td>1.0</td>\n",
       "      <td>0.0</td>\n",
       "      <td>0.0</td>\n",
       "    </tr>\n",
       "    <tr>\n",
       "      <th>25%</th>\n",
       "      <td>370633.5</td>\n",
       "      <td>1.0</td>\n",
       "      <td>10.0</td>\n",
       "      <td>0.0</td>\n",
       "    </tr>\n",
       "    <tr>\n",
       "      <th>50%</th>\n",
       "      <td>741267.0</td>\n",
       "      <td>2.0</td>\n",
       "      <td>17.0</td>\n",
       "      <td>0.0</td>\n",
       "    </tr>\n",
       "    <tr>\n",
       "      <th>75%</th>\n",
       "      <td>1111900.5</td>\n",
       "      <td>3.0</td>\n",
       "      <td>29.0</td>\n",
       "      <td>1.0</td>\n",
       "    </tr>\n",
       "    <tr>\n",
       "      <th>max</th>\n",
       "      <td>1482534.0</td>\n",
       "      <td>5.0</td>\n",
       "      <td>2009.0</td>\n",
       "      <td>1.0</td>\n",
       "    </tr>\n",
       "  </tbody>\n",
       "</table>\n",
       "</div>"
      ],
      "text/plain": [
       "       train_id  item_condition_id     price  shipping\n",
       "count 1482535.0          1482535.0 1482535.0 1482535.0\n",
       "mean   741267.0                1.9      26.7       0.5\n",
       "std    427971.1                0.9      38.6       0.5\n",
       "min         0.0                1.0       0.0       0.0\n",
       "25%    370633.5                1.0      10.0       0.0\n",
       "50%    741267.0                2.0      17.0       0.0\n",
       "75%   1111900.5                3.0      29.0       1.0\n",
       "max   1482534.0                5.0    2009.0       1.0"
      ]
     },
     "execution_count": 47,
     "metadata": {},
     "output_type": "execute_result"
    }
   ],
   "source": [
    "np.round(mercari.describe(),2)"
   ]
  },
  {
   "cell_type": "markdown",
   "metadata": {},
   "source": [
    "The price seems strongly left-skewed, with 75% or more of prices below 30 and the maximum price is 2009. Seems reasonable to take a $\\log(p+1)$.\n",
    "\n",
    "The minimum price is 0.\n",
    "\n",
    "#### Wait, what? $0 price?"
   ]
  },
  {
   "cell_type": "code",
   "execution_count": 37,
   "metadata": {
    "scrolled": true
   },
   "outputs": [
    {
     "data": {
      "text/html": [
       "<div>\n",
       "<style scoped>\n",
       "    .dataframe tbody tr th:only-of-type {\n",
       "        vertical-align: middle;\n",
       "    }\n",
       "\n",
       "    .dataframe tbody tr th {\n",
       "        vertical-align: top;\n",
       "    }\n",
       "\n",
       "    .dataframe thead th {\n",
       "        text-align: right;\n",
       "    }\n",
       "</style>\n",
       "<table border=\"1\" class=\"dataframe\">\n",
       "  <thead>\n",
       "    <tr style=\"text-align: right;\">\n",
       "      <th></th>\n",
       "      <th>train_id</th>\n",
       "      <th>name</th>\n",
       "      <th>item_condition_id</th>\n",
       "      <th>category_name</th>\n",
       "      <th>brand_name</th>\n",
       "      <th>price</th>\n",
       "      <th>shipping</th>\n",
       "      <th>item_description</th>\n",
       "    </tr>\n",
       "  </thead>\n",
       "  <tbody>\n",
       "    <tr>\n",
       "      <th>1325</th>\n",
       "      <td>1325</td>\n",
       "      <td>Alabama Crimson Tide Quality Lanyard</td>\n",
       "      <td>1</td>\n",
       "      <td>Sports &amp; Outdoors/Fan Shop/NCAA</td>\n",
       "      <td>NaN</td>\n",
       "      <td>0.0</td>\n",
       "      <td>1</td>\n",
       "      <td>TOP QUALITY THICK LANYARD Reversible sides wit...</td>\n",
       "    </tr>\n",
       "    <tr>\n",
       "      <th>2544</th>\n",
       "      <td>2544</td>\n",
       "      <td>Levi leggings</td>\n",
       "      <td>3</td>\n",
       "      <td>Women/Jeans/Slim, Skinny</td>\n",
       "      <td>Levi's®</td>\n",
       "      <td>0.0</td>\n",
       "      <td>0</td>\n",
       "      <td>Light wash. Hardly worn. Size 24 but fits like...</td>\n",
       "    </tr>\n",
       "    <tr>\n",
       "      <th>2712</th>\n",
       "      <td>2712</td>\n",
       "      <td>Simple Red Lace Lingerie Top</td>\n",
       "      <td>3</td>\n",
       "      <td>Women/Underwear/G-Strings &amp; Thongs</td>\n",
       "      <td>NaN</td>\n",
       "      <td>0.0</td>\n",
       "      <td>0</td>\n",
       "      <td>Very simple but cute, a little form fitting as...</td>\n",
       "    </tr>\n",
       "    <tr>\n",
       "      <th>3576</th>\n",
       "      <td>3576</td>\n",
       "      <td>Turquoise 15 Pc Makeup Brush Set</td>\n",
       "      <td>1</td>\n",
       "      <td>Beauty/Tools &amp; Accessories/Makeup Brushes &amp; Tools</td>\n",
       "      <td>NaN</td>\n",
       "      <td>0.0</td>\n",
       "      <td>1</td>\n",
       "      <td>1 left!</td>\n",
       "    </tr>\n",
       "    <tr>\n",
       "      <th>3761</th>\n",
       "      <td>3761</td>\n",
       "      <td>Girls size 7/8</td>\n",
       "      <td>3</td>\n",
       "      <td>Kids/Girls (4+)/Tops &amp; T-Shirts</td>\n",
       "      <td>NaN</td>\n",
       "      <td>0.0</td>\n",
       "      <td>1</td>\n",
       "      <td>5 pair gap jean excellent used condition 3 chi...</td>\n",
       "    </tr>\n",
       "    <tr>\n",
       "      <th>5237</th>\n",
       "      <td>5237</td>\n",
       "      <td>Nursing Bra</td>\n",
       "      <td>3</td>\n",
       "      <td>Women/Underwear/Bras</td>\n",
       "      <td>Motherhood Maternity</td>\n",
       "      <td>0.0</td>\n",
       "      <td>0</td>\n",
       "      <td>Used a few times but was not able to nurse</td>\n",
       "    </tr>\n",
       "    <tr>\n",
       "      <th>6175</th>\n",
       "      <td>6175</td>\n",
       "      <td>Multi Listing Bundled Package, Thanks</td>\n",
       "      <td>2</td>\n",
       "      <td>Electronics/Media/DVD</td>\n",
       "      <td>NaN</td>\n",
       "      <td>0.0</td>\n",
       "      <td>1</td>\n",
       "      <td>1)Large Collection of Full Length Strawberry S...</td>\n",
       "    </tr>\n",
       "    <tr>\n",
       "      <th>7116</th>\n",
       "      <td>7116</td>\n",
       "      <td>Nike Dri-Fit High Power Speed Tights</td>\n",
       "      <td>1</td>\n",
       "      <td>Women/Athletic Apparel/Pants, Tights, Leggings</td>\n",
       "      <td>Nike</td>\n",
       "      <td>0.0</td>\n",
       "      <td>1</td>\n",
       "      <td>Bought at Nike store in New York, Brand New, N...</td>\n",
       "    </tr>\n",
       "    <tr>\n",
       "      <th>7622</th>\n",
       "      <td>7622</td>\n",
       "      <td>Hands free earpiece</td>\n",
       "      <td>1</td>\n",
       "      <td>Electronics/Cell Phones &amp; Accessories/Headsets</td>\n",
       "      <td>NaN</td>\n",
       "      <td>0.0</td>\n",
       "      <td>0</td>\n",
       "      <td>Wireless Bluetooth hands free used with Samsun...</td>\n",
       "    </tr>\n",
       "    <tr>\n",
       "      <th>10812</th>\n",
       "      <td>10812</td>\n",
       "      <td>Vampire candy bowl</td>\n",
       "      <td>1</td>\n",
       "      <td>Home/Seasonal Décor/Halloween</td>\n",
       "      <td>NaN</td>\n",
       "      <td>0.0</td>\n",
       "      <td>0</td>\n",
       "      <td>New good condition for halloween</td>\n",
       "    </tr>\n",
       "  </tbody>\n",
       "</table>\n",
       "</div>"
      ],
      "text/plain": [
       "       train_id                                   name  item_condition_id  \\\n",
       "1325       1325   Alabama Crimson Tide Quality Lanyard                  1   \n",
       "2544       2544                          Levi leggings                  3   \n",
       "2712       2712           Simple Red Lace Lingerie Top                  3   \n",
       "3576       3576       Turquoise 15 Pc Makeup Brush Set                  1   \n",
       "3761       3761                         Girls size 7/8                  3   \n",
       "5237       5237                            Nursing Bra                  3   \n",
       "6175       6175  Multi Listing Bundled Package, Thanks                  2   \n",
       "7116       7116   Nike Dri-Fit High Power Speed Tights                  1   \n",
       "7622       7622                    Hands free earpiece                  1   \n",
       "10812     10812                     Vampire candy bowl                  1   \n",
       "\n",
       "                                           category_name  \\\n",
       "1325                     Sports & Outdoors/Fan Shop/NCAA   \n",
       "2544                            Women/Jeans/Slim, Skinny   \n",
       "2712                  Women/Underwear/G-Strings & Thongs   \n",
       "3576   Beauty/Tools & Accessories/Makeup Brushes & Tools   \n",
       "3761                     Kids/Girls (4+)/Tops & T-Shirts   \n",
       "5237                                Women/Underwear/Bras   \n",
       "6175                               Electronics/Media/DVD   \n",
       "7116      Women/Athletic Apparel/Pants, Tights, Leggings   \n",
       "7622      Electronics/Cell Phones & Accessories/Headsets   \n",
       "10812                      Home/Seasonal Décor/Halloween   \n",
       "\n",
       "                 brand_name  price  shipping  \\\n",
       "1325                    NaN    0.0         1   \n",
       "2544                Levi's®    0.0         0   \n",
       "2712                    NaN    0.0         0   \n",
       "3576                    NaN    0.0         1   \n",
       "3761                    NaN    0.0         1   \n",
       "5237   Motherhood Maternity    0.0         0   \n",
       "6175                    NaN    0.0         1   \n",
       "7116                   Nike    0.0         1   \n",
       "7622                    NaN    0.0         0   \n",
       "10812                   NaN    0.0         0   \n",
       "\n",
       "                                        item_description  \n",
       "1325   TOP QUALITY THICK LANYARD Reversible sides wit...  \n",
       "2544   Light wash. Hardly worn. Size 24 but fits like...  \n",
       "2712   Very simple but cute, a little form fitting as...  \n",
       "3576                                             1 left!  \n",
       "3761   5 pair gap jean excellent used condition 3 chi...  \n",
       "5237          Used a few times but was not able to nurse  \n",
       "6175   1)Large Collection of Full Length Strawberry S...  \n",
       "7116   Bought at Nike store in New York, Brand New, N...  \n",
       "7622   Wireless Bluetooth hands free used with Samsun...  \n",
       "10812                   New good condition for halloween  "
      ]
     },
     "execution_count": 37,
     "metadata": {},
     "output_type": "execute_result"
    }
   ],
   "source": [
    "zero = mercari.loc[mercari['price'] == 0]\n",
    "zero.head(10)"
   ]
  },
  {
   "cell_type": "markdown",
   "metadata": {},
   "source": [
    "Ok, there are some anomalies. \n",
    "\n",
    "Let's look at the relation of price to other variables."
   ]
  },
  {
   "cell_type": "code",
   "execution_count": 53,
   "metadata": {},
   "outputs": [
    {
     "data": {
      "text/plain": [
       "<matplotlib.axes._subplots.AxesSubplot at 0x11ce4a828>"
      ]
     },
     "execution_count": 53,
     "metadata": {},
     "output_type": "execute_result"
    },
    {
     "data": {
      "image/png": "[encoded data removed]",
      "text/plain": [
       "<Figure size 432x288 with 1 Axes>"
      ]
     },
     "metadata": {},
     "output_type": "display_data"
    }
   ],
   "source": [
    "mercari.boxplot('price', by='item_condition_id')"
   ]
  },
  {
   "cell_type": "code",
   "execution_count": 54,
   "metadata": {},
   "outputs": [
    {
     "data": {
      "text/plain": [
       "<matplotlib.axes._subplots.AxesSubplot at 0x11d582ba8>"
      ]
     },
     "execution_count": 54,
     "metadata": {},
     "output_type": "execute_result"
    },
    {
     "data": {
      "image/png": "[encoded data removed]",
      "text/plain": [
       "<Figure size 432x288 with 1 Axes>"
      ]
     },
     "metadata": {},
     "output_type": "display_data"
    }
   ],
   "source": [
    "mercari.boxplot('price', by='shipping')"
   ]
  },
  {
   "cell_type": "markdown",
   "metadata": {},
   "source": [
    "Let's take $\\log$ of the price"
   ]
  },
  {
   "cell_type": "code",
   "execution_count": 51,
   "metadata": {
    "scrolled": true
   },
   "outputs": [
    {
     "data": {
      "text/plain": [
       "<matplotlib.axes._subplots.AxesSubplot at 0x117bd85f8>"
      ]
     },
     "execution_count": 51,
     "metadata": {},
     "output_type": "execute_result"
    },
    {
     "data": {
      "image/png": "[encoded data removed]",
      "text/plain": [
       "<Figure size 432x288 with 1 Axes>"
      ]
     },
     "metadata": {},
     "output_type": "display_data"
    }
   ],
   "source": [
    "mercari['log_price'] = np.log(mercari['price'] + 1)\n",
    "mercari.boxplot('log_price', by='item_condition_id')"
   ]
  },
  {
   "cell_type": "code",
   "execution_count": 52,
   "metadata": {},
   "outputs": [
    {
     "data": {
      "text/plain": [
       "<matplotlib.axes._subplots.AxesSubplot at 0x11ce6eef0>"
      ]
     },
     "execution_count": 52,
     "metadata": {},
     "output_type": "execute_result"
    },
    {
     "data": {
      "image/png": "[encoded data removed]",
      "text/plain": [
       "<Figure size 432x288 with 1 Axes>"
      ]
     },
     "metadata": {},
     "output_type": "display_data"
    }
   ],
   "source": [
    "mercari.boxplot('log_price', by='shipping')"
   ]
  },
  {
   "cell_type": "markdown",
   "metadata": {},
   "source": [
    "It seems that neither condition nor shipping have a strong individual impact on the price. \n",
    "\n",
    "More explorations of the data:\n",
    "- https://www.kaggle.com/huguera/mercari-data-analysis/notebook\n",
    "- https://rpubs.com/slazien/mercari_eda\n",
    "- https://www.kaggle.com/jparajuli/mercari-price-suggestion-preliminary-analysis/notebook"
   ]
  },
  {
   "cell_type": "markdown",
   "metadata": {},
   "source": [
    "### Evaluation\n",
    "\n",
    "The evaluation method for the challenge was Root Mean Squared Logarithmic Error (RMSLE).\n",
    "\n",
    "This section is an example comparison of Root Mean Squared Error and Root Mean Squared Logarithmic Error,\n",
    "on sample data. \n",
    "Feel free to play around to get a better intuition!"
   ]
  },
  {
   "cell_type": "code",
   "execution_count": 55,
   "metadata": {},
   "outputs": [],
   "source": [
    "# Sampling data\n",
    "def sample_data(scale, spread, n_samples, slope):\n",
    "    x = np.random.random(n_samples) * scale\n",
    "    y = slope * x + 1 + np.random.random(n_samples) * spread\n",
    "    obs = y\n",
    "    pred = slope * x + spread / 2 + 1\n",
    "    return x, y, obs, pred\n",
    "\n",
    "# Plotting the data sample\n",
    "def plot_sample(x, y, obs, pred):\n",
    "    plt.plot(x, pred, '-', color='#8f4898')\n",
    "    for idx in range(len(obs)):\n",
    "        plt.plot([x[idx], x[idx]], [pred[idx], obs[idx]], '#D7907B')\n",
    "    plt.plot(x, y, 'o', color='#531CB3')"
   ]
  },
  {
   "cell_type": "markdown",
   "metadata": {},
   "source": [
    "$\\large RMSE = \\sqrt{\\frac{1}{n} \\sum_{i=1}^{n} \\left( p_i - a_i \\right)^2}$"
   ]
  },
  {
   "cell_type": "markdown",
   "metadata": {},
   "source": [
    "$\\large RMSLE = \\sqrt{\\frac{1}{n} \\sum_{i=1}^{n} \\left( \\log(p_i+1) - \\log(a_i+1) \\right)^2}$"
   ]
  },
  {
   "cell_type": "code",
   "execution_count": null,
   "metadata": {},
   "outputs": [],
   "source": [
    "def RMSE(pred, obs): \n",
    "    return np.sqrt(np.cumsum((pred - obs) ** 2) / (np.arange(len(pred)) + 1))\n",
    "    \n",
    "def RMSLE(pred, obs):\n",
    "    return np.sqrt(np.cumsum((np.log(pred + 1) - np.log(obs + 1)) ** 2) / (np.arange(len(pred)) + 1))"
   ]
  },
  {
   "cell_type": "code",
   "execution_count": 53,
   "metadata": {},
   "outputs": [
    {
     "data": {
      "image/png": "[encoded data removed]",
      "text/plain": [
       "<Figure size 432x288 with 1 Axes>"
      ]
     },
     "metadata": {},
     "output_type": "display_data"
    }
   ],
   "source": [
    "# Small sample of relatively small data\n",
    "x, y, obs, pred = sample_data(1, 1, 10, 2)\n",
    "plot_sample(x, y, obs, pred)"
   ]
  },
  {
   "cell_type": "code",
   "execution_count": 54,
   "metadata": {},
   "outputs": [
    {
     "data": {
      "text/plain": [
       "[<matplotlib.lines.Line2D at 0x10e552b70>]"
      ]
     },
     "execution_count": 54,
     "metadata": {},
     "output_type": "execute_result"
    },
    {
     "data": {
      "image/png": "[encoded data removed]",
      "text/plain": [
       "<Figure size 432x288 with 1 Axes>"
      ]
     },
     "metadata": {},
     "output_type": "display_data"
    }
   ],
   "source": [
    "# If both predicted and actual values are small, RMSE and RMSLE are relatively close\n",
    "plt.plot(sorted(x), RMSLE(pred, obs), color=\"#8f4898\")\n",
    "plt.plot(sorted(x), RMSE(pred, obs), color='#FCB97D')"
   ]
  },
  {
   "cell_type": "code",
   "execution_count": 55,
   "metadata": {},
   "outputs": [
    {
     "data": {
      "image/png": "[encoded data removed]",
      "text/plain": [
       "<Figure size 432x288 with 1 Axes>"
      ]
     },
     "metadata": {},
     "output_type": "display_data"
    }
   ],
   "source": [
    "# Small sample of relatively big data\n",
    "x, y, obs, pred = sample_data(100, 200, 10, 2)\n",
    "plot_sample(x, y, obs, pred)"
   ]
  },
  {
   "cell_type": "code",
   "execution_count": 56,
   "metadata": {},
   "outputs": [
    {
     "data": {
      "text/plain": [
       "[<matplotlib.lines.Line2D at 0x10e735da0>]"
      ]
     },
     "execution_count": 56,
     "metadata": {},
     "output_type": "execute_result"
    },
    {
     "data": {
      "image/png": "[encoded data removed]",
      "text/plain": [
       "<Figure size 432x288 with 1 Axes>"
      ]
     },
     "metadata": {},
     "output_type": "display_data"
    }
   ],
   "source": [
    "# If predicted and/or actual values are big, the RMSE becomes much bigger and RMSLE is negligible\n",
    "plt.plot(sorted(x), RMSLE(pred, obs), color=\"#8f4898\")\n",
    "plt.plot(sorted(x), RMSE(pred, obs), color='#FCB97D')"
   ]
  },
  {
   "cell_type": "markdown",
   "metadata": {},
   "source": [
    "## Concepts\n",
    "\n",
    "Various concepts encountered in the winning solutions."
   ]
  },
  {
   "cell_type": "markdown",
   "metadata": {},
   "source": [
    "### Linear regression\n",
    "A simple loss function might be based on the sum of squared residuals.\n",
    "\n",
    "$\\large L = \\sum( p_i - a_i )^2$"
   ]
  },
  {
   "cell_type": "markdown",
   "metadata": {},
   "source": [
    "### Ridge regression\n",
    "\n",
    "Adding a squared coefficient to increase the penalty in the loss function, helps with avoiding overfitting. Reduces the $\\beta$, but not necessarily to 0. Highly sensitive to outliers.\n",
    "\n",
    "$\\large L = \\sum( p_i - a_i )^2 + \\lambda\\sum\\beta^2$\n"
   ]
  },
  {
   "cell_type": "markdown",
   "metadata": {},
   "source": [
    "### Lasso regression\n",
    "\n",
    "Adding a coefficient to increase the penalty in the loss function, helps with avoiding overfitting. Reduces the $\\beta$ to 0, which might result in fewer features in the resulting model.\n",
    "\n",
    "$\\large L = \\sum( p_i - a_i )^2 + \\lambda\\sum| \\beta |$"
   ]
  },
  {
   "cell_type": "markdown",
   "metadata": {},
   "source": [
    "## Resources\n",
    "\n",
    "#### While working on this presentation, I used numerous resources:\n",
    "\n",
    "##### Ridge and lasso regression\n",
    "    - [Practical machine learning: Ridge Regression vs. Lasso](https://hackernoon.com/practical-machine-learning-ridge-regression-vs-lasso-a00326371ece)\n",
    "    - [Modern regression 1: Ridge regression](http://www.stat.cmu.edu/~ryantibs/datamining/lectures/16-modr1.pdf)\n",
    "    \n",
    "#### Gradient boosting\n",
    "    - [A Kaggle master explains gradient boosting](http://blog.kaggle.com/2017/01/23/a-kaggle-master-explains-gradient-boosting/)\n",
    "    - [What is Light GBM?](https://medium.com/@pushkarmandot/https-medium-com-pushkarmandot-what-is-lightgbm-how-to-implement-it-how-to-fine-tune-the-parameters-60347819b7fc)\n",
    "    - [Gradient Boosting explained [demonstration]](https://arogozhnikov.github.io/2016/06/24/gradient_boosting_explained.html)\n",
    "    - [Gradient Boosting Interactive Playground](https://arogozhnikov.github.io/2016/07/05/gradient_boosting_playground.html)\n",
    "    - [Light GBM features - Microsoft](https://github.com/Microsoft/LightGBM/blob/master/docs/Features.rst)\n",
    "    \n",
    "#### Feature extraction\n",
    "    - [scikit learn - 4.2 Feature extraction](http://scikit-learn.org/stable/modules/feature_extraction.html)\n",
    "    - [Text Learning with scikit learn](https://napitupulu-jon.appspot.com/posts/text-learning-ud120.html)\n",
    "\n",
    "#### I also encountered some resources I didn't have the time to explore in depth:\n",
    "\n",
    "    - [Lecture notes on ridge regression](https://arxiv.org/pdf/1509.09169.pdf)\n",
    "    - [A comprehensive beginners guide for Linear, Ridge and Lasso Regression](https://www.analyticsvidhya.com/blog/2017/06/a-comprehensive-guide-for-linear-ridge-and-lasso-regression/)\n",
    "    - [Generalized Linear Models](http://scikit-learn.org/stable/modules/linear_model.html)\n",
    "    - [A Beginner's Guide To Understanding Convolutional Neural Networks](https://adeshpande3.github.io/adeshpande3.github.io/A-Beginner's-Guide-To-Understanding-Convolutional-Neural-Networks/)\n",
    "    - [Which algorithm takes the crown: Light GBM vs XGBOOST?](https://www.analyticsvidhya.com/blog/2017/06/which-algorithm-takes-the-crown-light-gbm-vs-xgboost/)\n",
    "    - [L1 vs L2 loss function](https://rishy.github.io/ml/2015/07/28/l1-vs-l2-loss/)\n",
    "    - [A Gentle Introduction to the Gradient Boosting Algorithm for Machine Learning](https://machinelearningmastery.com/gentle-introduction-gradient-boosting-algorithm-machine-learning/)\n",
    "    - [How to Prepare Text Data for Machine Learning with scikit-learn](https://machinelearningmastery.com/prepare-text-data-machine-learning-scikit-learn/)\n",
    "    - [Machine Learning: Working With Stop Words, Stemming, and Spam](https://www.codeschool.com/blog/2016/03/25/machine-learning-working-with-stop-words-stemming-and-spam/)\n",
    "    - [Working with text](https://de.dariah.eu/tatom/working_with_text.html)\n",
    "    - [Sparse One Hidden Layer MLPs](https://www.elen.ucl.ac.be/Proceedings/esann/esannpdf/es2014-95.pdf)\n",
    "    - [Ad Click Prediction: a View from the Trenches](http://www.eecs.tufts.edu/~dsculley/papers/ad-click-prediction.pdf)\n",
    "    - [Factorization Machines with Follow-The-Regularized-Leader for CTR prediction in Display Advertising](http://wnzhang.net/share/rtb-papers/fm-ftrl.pdf)\n",
    "\n",
    "#### And used some images:\n",
    "    - [Supply and demand curve](https://epthinktank.eu/2016/02/09/secular-stagnation-and-the-euro-area/supply-and-demand-curve/)\n",
    "    - [Gradient Boosting](https://sebastianraschka.com/faq/docs/bagging-boosting-rf.html)\n",
    "    - [n-grams](http://recognize-speech.com/language-model/n-gram-model/comparison)"
   ]
  }
 ],
 "metadata": {
  "kernelspec": {
   "display_name": "Python 3",
   "language": "python",
   "name": "python3"
  },
  "language_info": {
   "codemirror_mode": {
    "name": "ipython",
    "version": 3
   },
   "file_extension": ".py",
   "mimetype": "text/x-python",
   "name": "python",
   "nbconvert_exporter": "python",
   "pygments_lexer": "ipython3",
   "version": "3.6.3"
  }
 },
 "nbformat": 4,
 "nbformat_minor": 2
}
