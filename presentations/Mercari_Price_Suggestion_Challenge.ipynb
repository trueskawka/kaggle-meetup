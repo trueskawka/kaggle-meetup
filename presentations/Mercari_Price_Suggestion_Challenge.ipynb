{
 "cells": [
  {
   "cell_type": "markdown",
   "metadata": {},
   "source": [
    "## Notes for Mercari Price Suggestion Challenge\n",
    "\n",
    "Examples and helpers for the presentation: https://docs.google.com/presentation/d/1AtvVds00Sfd8UJmO_ySKcN67tAwreDj3UA9MGJxZ1SA/edit?usp=sharing\n"
   ]
  },
  {
   "cell_type": "code",
   "execution_count": 58,
   "metadata": {},
   "outputs": [],
   "source": [
    "%matplotlib inline\n",
    "import pylab as plt\n",
    "import numpy as np\n",
    "import pandas as pd"
   ]
  },
  {
   "cell_type": "markdown",
   "metadata": {},
   "source": [
    "### Data\n",
    "\n",
    "`train_id` or `test_id` - integer, enumerated (no apparent data leakage)\n",
    "`name` \t\t\t        - string\n",
    "`item_condition_id`\t    - integer levels (1, 2, 3)\n",
    "`category_name`\t        - string (with levels, e.g. Women/Tops & Blouses/Blouse)\n",
    "`brand_name`\t\t    - string, if no brand name left empty\n",
    "`price`\t\t\t\t    - integer\n",
    "`shipping` \t\t\t    - binary, 1 if the seller pays for it (free shipping), 0 otherwise\n",
    "`item_description`      - string, where lack of description is marked as \"No description yet\""
   ]
  },
  {
   "cell_type": "code",
   "execution_count": 61,
   "metadata": {},
   "outputs": [
    {
     "data": {
      "text/html": [
       "<div>\n",
       "<style scoped>\n",
       "    .dataframe tbody tr th:only-of-type {\n",
       "        vertical-align: middle;\n",
       "    }\n",
       "\n",
       "    .dataframe tbody tr th {\n",
       "        vertical-align: top;\n",
       "    }\n",
       "\n",
       "    .dataframe thead th {\n",
       "        text-align: right;\n",
       "    }\n",
       "</style>\n",
       "<table border=\"1\" class=\"dataframe\">\n",
       "  <thead>\n",
       "    <tr style=\"text-align: right;\">\n",
       "      <th></th>\n",
       "      <th>train_id</th>\n",
       "      <th>name</th>\n",
       "      <th>item_condition_id</th>\n",
       "      <th>category_name</th>\n",
       "      <th>brand_name</th>\n",
       "      <th>price</th>\n",
       "      <th>shipping</th>\n",
       "      <th>item_description</th>\n",
       "    </tr>\n",
       "  </thead>\n",
       "  <tbody>\n",
       "    <tr>\n",
       "      <th>0</th>\n",
       "      <td>0</td>\n",
       "      <td>MLB Cincinnati Reds T Shirt Size XL</td>\n",
       "      <td>3</td>\n",
       "      <td>Men/Tops/T-shirts</td>\n",
       "      <td>NaN</td>\n",
       "      <td>10.0</td>\n",
       "      <td>1</td>\n",
       "      <td>No description yet</td>\n",
       "    </tr>\n",
       "    <tr>\n",
       "      <th>1</th>\n",
       "      <td>1</td>\n",
       "      <td>Razer BlackWidow Chroma Keyboard</td>\n",
       "      <td>3</td>\n",
       "      <td>Electronics/Computers &amp; Tablets/Components &amp; P...</td>\n",
       "      <td>Razer</td>\n",
       "      <td>52.0</td>\n",
       "      <td>0</td>\n",
       "      <td>This keyboard is in great condition and works ...</td>\n",
       "    </tr>\n",
       "    <tr>\n",
       "      <th>2</th>\n",
       "      <td>2</td>\n",
       "      <td>AVA-VIV Blouse</td>\n",
       "      <td>1</td>\n",
       "      <td>Women/Tops &amp; Blouses/Blouse</td>\n",
       "      <td>Target</td>\n",
       "      <td>10.0</td>\n",
       "      <td>1</td>\n",
       "      <td>Adorable top with a hint of lace and a key hol...</td>\n",
       "    </tr>\n",
       "    <tr>\n",
       "      <th>3</th>\n",
       "      <td>3</td>\n",
       "      <td>Leather Horse Statues</td>\n",
       "      <td>1</td>\n",
       "      <td>Home/Home Décor/Home Décor Accents</td>\n",
       "      <td>NaN</td>\n",
       "      <td>35.0</td>\n",
       "      <td>1</td>\n",
       "      <td>New with tags. Leather horses. Retail for [rm]...</td>\n",
       "    </tr>\n",
       "    <tr>\n",
       "      <th>4</th>\n",
       "      <td>4</td>\n",
       "      <td>24K GOLD plated rose</td>\n",
       "      <td>1</td>\n",
       "      <td>Women/Jewelry/Necklaces</td>\n",
       "      <td>NaN</td>\n",
       "      <td>44.0</td>\n",
       "      <td>0</td>\n",
       "      <td>Complete with certificate of authenticity</td>\n",
       "    </tr>\n",
       "    <tr>\n",
       "      <th>5</th>\n",
       "      <td>5</td>\n",
       "      <td>Bundled items requested for Ruie</td>\n",
       "      <td>3</td>\n",
       "      <td>Women/Other/Other</td>\n",
       "      <td>NaN</td>\n",
       "      <td>59.0</td>\n",
       "      <td>0</td>\n",
       "      <td>Banana republic bottoms, Candies skirt with ma...</td>\n",
       "    </tr>\n",
       "    <tr>\n",
       "      <th>6</th>\n",
       "      <td>6</td>\n",
       "      <td>Acacia pacific tides santorini top</td>\n",
       "      <td>3</td>\n",
       "      <td>Women/Swimwear/Two-Piece</td>\n",
       "      <td>Acacia Swimwear</td>\n",
       "      <td>64.0</td>\n",
       "      <td>0</td>\n",
       "      <td>Size small but straps slightly shortened to fi...</td>\n",
       "    </tr>\n",
       "    <tr>\n",
       "      <th>7</th>\n",
       "      <td>7</td>\n",
       "      <td>Girls cheer and tumbling bundle of 7</td>\n",
       "      <td>3</td>\n",
       "      <td>Sports &amp; Outdoors/Apparel/Girls</td>\n",
       "      <td>Soffe</td>\n",
       "      <td>6.0</td>\n",
       "      <td>1</td>\n",
       "      <td>You get three pairs of Sophie cheer shorts siz...</td>\n",
       "    </tr>\n",
       "    <tr>\n",
       "      <th>8</th>\n",
       "      <td>8</td>\n",
       "      <td>Girls Nike Pro shorts</td>\n",
       "      <td>3</td>\n",
       "      <td>Sports &amp; Outdoors/Apparel/Girls</td>\n",
       "      <td>Nike</td>\n",
       "      <td>19.0</td>\n",
       "      <td>0</td>\n",
       "      <td>Girls Size small Plus green. Three shorts total.</td>\n",
       "    </tr>\n",
       "    <tr>\n",
       "      <th>9</th>\n",
       "      <td>9</td>\n",
       "      <td>Porcelain clown doll checker pants VTG</td>\n",
       "      <td>3</td>\n",
       "      <td>Vintage &amp; Collectibles/Collectibles/Doll</td>\n",
       "      <td>NaN</td>\n",
       "      <td>8.0</td>\n",
       "      <td>0</td>\n",
       "      <td>I realized his pants are on backwards after th...</td>\n",
       "    </tr>\n",
       "  </tbody>\n",
       "</table>\n",
       "</div>"
      ],
      "text/plain": [
       "   train_id                                    name  item_condition_id  \\\n",
       "0         0     MLB Cincinnati Reds T Shirt Size XL                  3   \n",
       "1         1        Razer BlackWidow Chroma Keyboard                  3   \n",
       "2         2                          AVA-VIV Blouse                  1   \n",
       "3         3                   Leather Horse Statues                  1   \n",
       "4         4                    24K GOLD plated rose                  1   \n",
       "5         5        Bundled items requested for Ruie                  3   \n",
       "6         6      Acacia pacific tides santorini top                  3   \n",
       "7         7    Girls cheer and tumbling bundle of 7                  3   \n",
       "8         8                   Girls Nike Pro shorts                  3   \n",
       "9         9  Porcelain clown doll checker pants VTG                  3   \n",
       "\n",
       "                                       category_name       brand_name  price  \\\n",
       "0                                  Men/Tops/T-shirts              NaN   10.0   \n",
       "1  Electronics/Computers & Tablets/Components & P...            Razer   52.0   \n",
       "2                        Women/Tops & Blouses/Blouse           Target   10.0   \n",
       "3                 Home/Home Décor/Home Décor Accents              NaN   35.0   \n",
       "4                            Women/Jewelry/Necklaces              NaN   44.0   \n",
       "5                                  Women/Other/Other              NaN   59.0   \n",
       "6                           Women/Swimwear/Two-Piece  Acacia Swimwear   64.0   \n",
       "7                    Sports & Outdoors/Apparel/Girls            Soffe    6.0   \n",
       "8                    Sports & Outdoors/Apparel/Girls             Nike   19.0   \n",
       "9           Vintage & Collectibles/Collectibles/Doll              NaN    8.0   \n",
       "\n",
       "   shipping                                   item_description  \n",
       "0         1                                 No description yet  \n",
       "1         0  This keyboard is in great condition and works ...  \n",
       "2         1  Adorable top with a hint of lace and a key hol...  \n",
       "3         1  New with tags. Leather horses. Retail for [rm]...  \n",
       "4         0          Complete with certificate of authenticity  \n",
       "5         0  Banana republic bottoms, Candies skirt with ma...  \n",
       "6         0  Size small but straps slightly shortened to fi...  \n",
       "7         1  You get three pairs of Sophie cheer shorts siz...  \n",
       "8         0   Girls Size small Plus green. Three shorts total.  \n",
       "9         0  I realized his pants are on backwards after th...  "
      ]
     },
     "execution_count": 61,
     "metadata": {},
     "output_type": "execute_result"
    }
   ],
   "source": [
    "mercari = pd.read_table('~/Downloads/train.tsv')\n",
    "mercari.head(10)"
   ]
  },
  {
   "cell_type": "markdown",
   "metadata": {},
   "source": [
    "### Evaluation\n",
    "\n",
    "The evaluation method for the challenge was Root Mean Squared Logarithmic Error (RMSLE).\n",
    "\n",
    "This section is an example comparison of Root Mean Squared Error and Root Mean Squared Logarithmic Error,\n",
    "on sample data. Feel free to play around to get a better intuition!"
   ]
  },
  {
   "cell_type": "code",
   "execution_count": null,
   "metadata": {},
   "outputs": [],
   "source": [
    "# Sampling data\n",
    "def sample_data(scale, spread, n_samples, slope):\n",
    "    x = np.random.random(n_samples) * scale\n",
    "    y = slope * x + 1 + np.random.random(n_samples) * spread\n",
    "    obs = y\n",
    "    pred = slope * x + spread / 2 + 1\n",
    "    return x, y, obs, pred\n",
    "\n",
    "# Plotting the data sample\n",
    "def plot_sample(x, y, obs, pred):\n",
    "    plt.plot(x, pred, '-', color='#8f4898')\n",
    "    for idx in range(len(obs)):\n",
    "        plt.plot([x[idx], x[idx]], [pred[idx], obs[idx]], '#D7907B')\n",
    "    plt.plot(x, y, 'o', color='#531CB3')"
   ]
  },
  {
   "cell_type": "markdown",
   "metadata": {},
   "source": [
    "$\\large RMSE = \\sqrt{\\frac{1}{n} \\sum_{i=1}^{n} \\left( p_i - a_i \\right)^2}$"
   ]
  },
  {
   "cell_type": "markdown",
   "metadata": {},
   "source": [
    "$\\large RMSLE = \\sqrt{\\frac{1}{n} \\sum_{i=1}^{n} \\left( \\log(p_i+1) - \\log(a_i+1) \\right)^2}$"
   ]
  },
  {
   "cell_type": "code",
   "execution_count": null,
   "metadata": {},
   "outputs": [],
   "source": [
    "def RMSE(pred, obs): \n",
    "    return np.sqrt(np.cumsum((pred - obs) ** 2) / (np.arange(len(pred)) + 1))\n",
    "    \n",
    "def RMSLE(pred, obs):\n",
    "    return np.sqrt(np.cumsum((np.log(pred + 1) - np.log(obs + 1)) ** 2) / (np.arange(len(pred)) + 1))"
   ]
  },
  {
   "cell_type": "code",
   "execution_count": 53,
   "metadata": {},
   "outputs": [
    {
     "data": {
      "image/png": "[encoded data removed]",
      "text/plain": [
       "<Figure size 432x288 with 1 Axes>"
      ]
     },
     "metadata": {},
     "output_type": "display_data"
    }
   ],
   "source": [
    "# Small sample of relatively small data\n",
    "x, y, obs, pred = sample_data(1, 1, 10, 2)\n",
    "plot_sample(x, y, obs, pred)"
   ]
  },
  {
   "cell_type": "code",
   "execution_count": 54,
   "metadata": {},
   "outputs": [
    {
     "data": {
      "text/plain": [
       "[<matplotlib.lines.Line2D at 0x10e552b70>]"
      ]
     },
     "execution_count": 54,
     "metadata": {},
     "output_type": "execute_result"
    },
    {
     "data": {
      "image/png": "[encoded data removed]",
      "text/plain": [
       "<Figure size 432x288 with 1 Axes>"
      ]
     },
     "metadata": {},
     "output_type": "display_data"
    }
   ],
   "source": [
    "# If both predicted and actual values are small, RMSE and RMSLE are relatively close\n",
    "plt.plot(sorted(x), RMSLE(pred, obs), color=\"#8f4898\")\n",
    "plt.plot(sorted(x), RMSE(pred, obs), color='#FCB97D')"
   ]
  },
  {
   "cell_type": "code",
   "execution_count": 55,
   "metadata": {},
   "outputs": [
    {
     "data": {
      "image/png": "[encoded data removed]",
      "text/plain": [
       "<Figure size 432x288 with 1 Axes>"
      ]
     },
     "metadata": {},
     "output_type": "display_data"
    }
   ],
   "source": [
    "# Small sample of relatively big data\n",
    "x, y, obs, pred = sample_data(100, 200, 10, 2)\n",
    "plot_sample(x, y, obs, pred)"
   ]
  },
  {
   "cell_type": "code",
   "execution_count": 56,
   "metadata": {},
   "outputs": [
    {
     "data": {
      "text/plain": [
       "[<matplotlib.lines.Line2D at 0x10e735da0>]"
      ]
     },
     "execution_count": 56,
     "metadata": {},
     "output_type": "execute_result"
    },
    {
     "data": {
      "image/png": "[encoded data removed]",
      "text/plain": [
       "<Figure size 432x288 with 1 Axes>"
      ]
     },
     "metadata": {},
     "output_type": "display_data"
    }
   ],
   "source": [
    "# If predicted and/or actual values are big, the RMSE becomes much bigger and RMSLE is negligible\n",
    "plt.plot(sorted(x), RMSLE(pred, obs), color=\"#8f4898\")\n",
    "plt.plot(sorted(x), RMSE(pred, obs), color='#FCB97D')"
   ]
  },
  {
   "cell_type": "code",
   "execution_count": null,
   "metadata": {},
   "outputs": [],
   "source": []
  }
 ],
 "metadata": {
  "kernelspec": {
   "display_name": "Python 3",
   "language": "python",
   "name": "python3"
  },
  "language_info": {
   "codemirror_mode": {
    "name": "ipython",
    "version": 3
   },
   "file_extension": ".py",
   "mimetype": "text/x-python",
   "name": "python",
   "nbconvert_exporter": "python",
   "pygments_lexer": "ipython3",
   "version": "3.6.3"
  }
 },
 "nbformat": 4,
 "nbformat_minor": 2
}
